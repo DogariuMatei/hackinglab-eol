{
 "cells": [
  {
   "cell_type": "code",
   "execution_count": null,
   "id": "initial_id",
   "metadata": {
    "collapsed": true
   },
   "outputs": [],
   "source": [
    "import json, pathlib, re, collections, plotly.graph_objects as go\n",
    "from collections import Counter, defaultdict"
   ]
  },
  {
   "metadata": {},
   "cell_type": "code",
   "outputs": [],
   "execution_count": null,
   "source": [
    "# ----------  palette ----------\n",
    "CLR_EOL      = \"#ff6c6c\"\n",
    "CLR_NON_EOL  = \"#6c6cff\"\n",
    "CLR_BG       = \"#e9eef6\"\n",
    "CLR_TEXT     = \"#2c3e50\"\n",
    "FONT_FAMILY  = \"Arial\"\n",
    "\n",
    "# ----------  paths ----------\n",
    "ROOT   = pathlib.Path(__file__).resolve().parent       # data_nick/\n",
    "OUTDIR = ROOT / \"charts\"\n",
    "OUTDIR.mkdir(exist_ok=True)\n",
    "\n",
    "PORT_RE = re.compile(r\"eol_(\\d+)\\.json\", re.I)\n",
    "ASN_RE  = re.compile(r\"(AS\\d+)\", re.I)\n",
    "\n",
    "# ----------  accumulators ----------\n",
    "totals_per_port   = Counter()\n",
    "eols_per_port     = Counter()\n",
    "totals_per_asn    = Counter()\n",
    "eols_per_asn      = Counter()\n",
    "product_counter   = Counter()\n",
    "product_eol       = Counter()\n",
    "heatmap           = defaultdict(dict)  # asn → port → (eol,total)"
   ],
   "id": "608a44556f1d575d"
  },
  {
   "metadata": {},
   "cell_type": "code",
   "outputs": [],
   "execution_count": null,
   "source": [
    "def process_file(f: pathlib.Path):\n",
    "    m_port = PORT_RE.match(f.name)\n",
    "    m_asn  = ASN_RE.search(str(f.parent))\n",
    "    if not (m_port and m_asn):\n",
    "        return\n",
    "    port, asn = m_port.group(1), m_asn.group(1)\n",
    "\n",
    "    data   = json.load(f.open(encoding=\"utf-8\"))\n",
    "    totals = len(data)\n",
    "    eols   = sum(1 for row in data if row.get(\"is_eol\"))\n",
    "\n",
    "    totals_per_port[port] += totals\n",
    "    eols_per_port[port]   += eols\n",
    "    totals_per_asn[asn]   += totals\n",
    "    eols_per_asn[asn]     += eols\n",
    "    prev_e, prev_t = heatmap[asn].get(port, (0, 0))\n",
    "    heatmap[asn][port] = (prev_e + eols, prev_t + totals)\n",
    "\n",
    "    for row in data:\n",
    "        prod = row.get(\"server\", \"unknown\").split(\"/\")[0].strip()\n",
    "        product_counter[prod] += 1\n",
    "        if row.get(\"is_eol\"):\n",
    "            product_eol[prod] += 1\n",
    "\n",
    "for f in ROOT.glob(\"AS*/eol_*.json\"):\n",
    "    process_file(f)"
   ],
   "id": "d2b6046112aa673a"
  }
 ],
 "metadata": {
  "kernelspec": {
   "display_name": "Python 3",
   "language": "python",
   "name": "python3"
  },
  "language_info": {
   "codemirror_mode": {
    "name": "ipython",
    "version": 2
   },
   "file_extension": ".py",
   "mimetype": "text/x-python",
   "name": "python",
   "nbconvert_exporter": "python",
   "pygments_lexer": "ipython2",
   "version": "2.7.6"
  }
 },
 "nbformat": 4,
 "nbformat_minor": 5
}
