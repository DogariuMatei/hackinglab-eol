{
 "cells": [
  {
   "metadata": {},
   "cell_type": "code",
   "outputs": [],
   "execution_count": null,
   "source": [
    "# AS12595 - XYNTA Netherlands\n",
    "212.11.88.0/22\n",
    "91.216.34.0/24\n",
    "188.116.45.0/24\n",
    "185.117.226.0/24\n",
    "193.142.212.0/24\n",
    "185.133.88.0/22"
   ],
   "id": "f422025ee1116a3f"
  },
  {
   "cell_type": "code",
   "id": "initial_id",
   "metadata": {
    "collapsed": true,
    "ExecuteTime": {
     "end_time": "2025-05-06T14:25:57.448375Z",
     "start_time": "2025-05-06T14:25:57.263426Z"
    }
   },
   "source": [
    "import pandas as pd\n",
    "import numpy as np"
   ],
   "outputs": [],
   "execution_count": 1
  },
  {
   "metadata": {
    "ExecuteTime": {
     "end_time": "2025-05-06T14:25:57.475270Z",
     "start_time": "2025-05-06T14:25:57.466816Z"
    }
   },
   "cell_type": "code",
   "source": "df = pd.read_csv('output.csv')",
   "id": "b219e6ef29c5bae7",
   "outputs": [],
   "execution_count": 2
  },
  {
   "metadata": {
    "ExecuteTime": {
     "end_time": "2025-05-06T14:25:57.582450Z",
     "start_time": "2025-05-06T14:25:57.579701Z"
    }
   },
   "cell_type": "code",
   "source": "print(df)",
   "id": "83201e19235d9899",
   "outputs": [
    {
     "name": "stdout",
     "output_type": "stream",
     "text": [
      "     171.67.71.218\n",
      "0    171.67.70.146\n",
      "1    171.67.71.195\n",
      "2    171.67.71.191\n",
      "3    171.67.71.207\n",
      "4     171.67.71.82\n",
      "..             ...\n",
      "199   171.67.70.87\n",
      "200   171.67.71.80\n",
      "201   171.67.71.64\n",
      "202  171.67.70.154\n",
      "203  171.67.70.240\n",
      "\n",
      "[204 rows x 1 columns]\n"
     ]
    }
   ],
   "execution_count": 3
  }
 ],
 "metadata": {
  "kernelspec": {
   "display_name": "Python 3",
   "language": "python",
   "name": "python3"
  },
  "language_info": {
   "codemirror_mode": {
    "name": "ipython",
    "version": 2
   },
   "file_extension": ".py",
   "mimetype": "text/x-python",
   "name": "python",
   "nbconvert_exporter": "python",
   "pygments_lexer": "ipython2",
   "version": "2.7.6"
  }
 },
 "nbformat": 4,
 "nbformat_minor": 5
}
